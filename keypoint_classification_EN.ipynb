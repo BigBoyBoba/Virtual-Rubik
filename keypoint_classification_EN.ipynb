{
 "cells": [
  {
   "cell_type": "code",
   "execution_count": 1,
   "metadata": {
    "id": "igMyGnjE9hEp"
   },
   "outputs": [],
   "source": [
    "import csv\n",
    "\n",
    "import numpy as np\n",
    "import tensorflow as tf\n",
    "from sklearn.model_selection import train_test_split\n",
    "\n",
    "RANDOM_SEED = 42"
   ]
  },
  {
   "cell_type": "markdown",
   "metadata": {
    "id": "t2HDvhIu9hEr"
   },
   "source": [
    "# Specify each path"
   ]
  },
  {
   "cell_type": "code",
   "execution_count": 2,
   "metadata": {
    "id": "9NvZP2Zn9hEy"
   },
   "outputs": [],
   "source": [
    "dataset = 'model/keypoint_classifier/keypoint.csv'\n",
    "model_save_path = 'model/keypoint_classifier/keypoint_classifier.hdf5'\n",
    "tflite_save_path = 'model/keypoint_classifier/keypoint_classifier.tflite'"
   ]
  },
  {
   "cell_type": "markdown",
   "metadata": {
    "id": "s5oMH7x19hEz"
   },
   "source": [
    "# Set number of classes"
   ]
  },
  {
   "cell_type": "code",
   "execution_count": 3,
   "metadata": {
    "id": "du4kodXL9hEz"
   },
   "outputs": [],
   "source": [
    "NUM_CLASSES = 3"
   ]
  },
  {
   "cell_type": "markdown",
   "metadata": {
    "id": "XjnL0uso9hEz"
   },
   "source": [
    "# Dataset reading"
   ]
  },
  {
   "cell_type": "code",
   "execution_count": 4,
   "metadata": {
    "id": "QT5ZqtEz9hE0"
   },
   "outputs": [],
   "source": [
    "X_dataset = np.loadtxt(dataset, delimiter=',', dtype='float32', usecols=list(range(1, (21 * 2) + 1)))"
   ]
  },
  {
   "cell_type": "code",
   "execution_count": 5,
   "metadata": {
    "id": "QmoKFsp49hE0"
   },
   "outputs": [],
   "source": [
    "y_dataset = np.loadtxt(dataset, delimiter=',', dtype='int32', usecols=(0))"
   ]
  },
  {
   "cell_type": "code",
   "execution_count": 6,
   "metadata": {
    "id": "xQU7JTZ_9hE0"
   },
   "outputs": [],
   "source": [
    "X_train, X_test, y_train, y_test = train_test_split(X_dataset, y_dataset, train_size=0.75, random_state=RANDOM_SEED)"
   ]
  },
  {
   "cell_type": "markdown",
   "metadata": {
    "id": "mxK_lETT9hE0"
   },
   "source": [
    "# Model building"
   ]
  },
  {
   "cell_type": "code",
   "execution_count": 7,
   "metadata": {
    "id": "vHBmUf1t9hE1"
   },
   "outputs": [],
   "source": [
    "model = tf.keras.models.Sequential([\n",
    "    tf.keras.layers.Input((21 * 2, )),\n",
    "    tf.keras.layers.Dropout(0.2),\n",
    "    tf.keras.layers.Dense(20, activation='relu'),\n",
    "    tf.keras.layers.Dropout(0.4),\n",
    "    tf.keras.layers.Dense(10, activation='relu'),\n",
    "    tf.keras.layers.Dense(NUM_CLASSES, activation='softmax')\n",
    "])"
   ]
  },
  {
   "cell_type": "code",
   "execution_count": 8,
   "metadata": {
    "colab": {
     "base_uri": "https://localhost:8080/"
    },
    "id": "ypqky9tc9hE1",
    "outputId": "5db082bb-30e3-4110-bf63-a1ee777ecd46"
   },
   "outputs": [
    {
     "name": "stdout",
     "output_type": "stream",
     "text": [
      "Model: \"sequential\"\n",
      "_________________________________________________________________\n",
      " Layer (type)                Output Shape              Param #   \n",
      "=================================================================\n",
      " dropout (Dropout)           (None, 42)                0         \n",
      "                                                                 \n",
      " dense (Dense)               (None, 20)                860       \n",
      "                                                                 \n",
      " dropout_1 (Dropout)         (None, 20)                0         \n",
      "                                                                 \n",
      " dense_1 (Dense)             (None, 10)                210       \n",
      "                                                                 \n",
      " dense_2 (Dense)             (None, 3)                 33        \n",
      "                                                                 \n",
      "=================================================================\n",
      "Total params: 1,103\n",
      "Trainable params: 1,103\n",
      "Non-trainable params: 0\n",
      "_________________________________________________________________\n"
     ]
    }
   ],
   "source": [
    "model.summary()  # tf.keras.utils.plot_model(model, show_shapes=True)"
   ]
  },
  {
   "cell_type": "code",
   "execution_count": 9,
   "metadata": {
    "id": "MbMjOflQ9hE1"
   },
   "outputs": [],
   "source": [
    "# Model checkpoint callback\n",
    "cp_callback = tf.keras.callbacks.ModelCheckpoint(\n",
    "    model_save_path, verbose=1, save_weights_only=False)\n",
    "# Callback for early stopping\n",
    "es_callback = tf.keras.callbacks.EarlyStopping(patience=20, verbose=1)"
   ]
  },
  {
   "cell_type": "code",
   "execution_count": 10,
   "metadata": {
    "id": "c3Dac0M_9hE2"
   },
   "outputs": [],
   "source": [
    "# Model compilation\n",
    "model.compile(\n",
    "    optimizer='adam',\n",
    "    loss='sparse_categorical_crossentropy',\n",
    "    metrics=['accuracy']\n",
    ")"
   ]
  },
  {
   "cell_type": "markdown",
   "metadata": {
    "id": "7XI0j1Iu9hE2"
   },
   "source": [
    "# Model training"
   ]
  },
  {
   "cell_type": "code",
   "execution_count": 11,
   "metadata": {},
   "outputs": [
    {
     "name": "stdout",
     "output_type": "stream",
     "text": [
      "751 751\n"
     ]
    }
   ],
   "source": [
    "print(len(X_test), len(y_test))"
   ]
  },
  {
   "cell_type": "code",
   "execution_count": 12,
   "metadata": {
    "colab": {
     "base_uri": "https://localhost:8080/"
    },
    "id": "WirBl-JE9hE3",
    "outputId": "71b30ca2-8294-4d9d-8aa2-800d90d399de",
    "scrolled": true
   },
   "outputs": [
    {
     "name": "stdout",
     "output_type": "stream",
     "text": [
      "Epoch 1/1000\n",
      " 1/18 [>.............................] - ETA: 7s - loss: 1.1723 - accuracy: 0.3047\n",
      "Epoch 1: saving model to model/keypoint_classifier\\keypoint_classifier.hdf5\n",
      "18/18 [==============================] - 1s 13ms/step - loss: 1.1261 - accuracy: 0.3548 - val_loss: 1.0705 - val_accuracy: 0.4567\n",
      "Epoch 2/1000\n",
      " 1/18 [>.............................] - ETA: 0s - loss: 1.1050 - accuracy: 0.3906\n",
      "Epoch 2: saving model to model/keypoint_classifier\\keypoint_classifier.hdf5\n",
      "18/18 [==============================] - 0s 4ms/step - loss: 1.0695 - accuracy: 0.4250 - val_loss: 1.0276 - val_accuracy: 0.5433\n",
      "Epoch 3/1000\n",
      " 1/18 [>.............................] - ETA: 0s - loss: 1.0343 - accuracy: 0.4219\n",
      "Epoch 3: saving model to model/keypoint_classifier\\keypoint_classifier.hdf5\n",
      "18/18 [==============================] - 0s 4ms/step - loss: 1.0227 - accuracy: 0.4623 - val_loss: 0.9737 - val_accuracy: 0.5939\n",
      "Epoch 4/1000\n",
      " 1/18 [>.............................] - ETA: 0s - loss: 1.0039 - accuracy: 0.4453\n",
      "Epoch 4: saving model to model/keypoint_classifier\\keypoint_classifier.hdf5\n",
      "18/18 [==============================] - 0s 3ms/step - loss: 0.9805 - accuracy: 0.5169 - val_loss: 0.9049 - val_accuracy: 0.6245\n",
      "Epoch 5/1000\n",
      " 1/18 [>.............................] - ETA: 0s - loss: 1.0045 - accuracy: 0.4688\n",
      "Epoch 5: saving model to model/keypoint_classifier\\keypoint_classifier.hdf5\n",
      "18/18 [==============================] - 0s 4ms/step - loss: 0.9413 - accuracy: 0.5448 - val_loss: 0.8210 - val_accuracy: 0.6671\n",
      "Epoch 6/1000\n",
      " 1/18 [>.............................] - ETA: 0s - loss: 0.8485 - accuracy: 0.6328\n",
      "Epoch 6: saving model to model/keypoint_classifier\\keypoint_classifier.hdf5\n",
      "18/18 [==============================] - 0s 5ms/step - loss: 0.8899 - accuracy: 0.5866 - val_loss: 0.7482 - val_accuracy: 0.7896\n",
      "Epoch 7/1000\n",
      " 1/18 [>.............................] - ETA: 0s - loss: 0.8386 - accuracy: 0.6406\n",
      "Epoch 7: saving model to model/keypoint_classifier\\keypoint_classifier.hdf5\n",
      "18/18 [==============================] - 0s 5ms/step - loss: 0.8358 - accuracy: 0.6226 - val_loss: 0.6802 - val_accuracy: 0.8029\n",
      "Epoch 8/1000\n",
      " 1/18 [>.............................] - ETA: 0s - loss: 0.8010 - accuracy: 0.6484\n",
      "Epoch 8: saving model to model/keypoint_classifier\\keypoint_classifier.hdf5\n",
      "18/18 [==============================] - 0s 5ms/step - loss: 0.7812 - accuracy: 0.6456 - val_loss: 0.6240 - val_accuracy: 0.7923\n",
      "Epoch 9/1000\n",
      " 1/18 [>.............................] - ETA: 0s - loss: 0.7561 - accuracy: 0.6953\n",
      "Epoch 9: saving model to model/keypoint_classifier\\keypoint_classifier.hdf5\n",
      "18/18 [==============================] - 0s 5ms/step - loss: 0.7271 - accuracy: 0.6861 - val_loss: 0.5755 - val_accuracy: 0.8242\n",
      "Epoch 10/1000\n",
      " 1/18 [>.............................] - ETA: 0s - loss: 0.7187 - accuracy: 0.6797\n",
      "Epoch 10: saving model to model/keypoint_classifier\\keypoint_classifier.hdf5\n",
      "18/18 [==============================] - 0s 4ms/step - loss: 0.6972 - accuracy: 0.6821 - val_loss: 0.5337 - val_accuracy: 0.8362\n",
      "Epoch 11/1000\n",
      " 1/18 [>.............................] - ETA: 0s - loss: 0.6309 - accuracy: 0.7344\n",
      "Epoch 11: saving model to model/keypoint_classifier\\keypoint_classifier.hdf5\n",
      "18/18 [==============================] - 0s 5ms/step - loss: 0.6406 - accuracy: 0.7145 - val_loss: 0.4791 - val_accuracy: 0.8881\n",
      "Epoch 12/1000\n",
      " 1/18 [>.............................] - ETA: 0s - loss: 0.6461 - accuracy: 0.6953\n",
      "Epoch 12: saving model to model/keypoint_classifier\\keypoint_classifier.hdf5\n",
      "18/18 [==============================] - 0s 5ms/step - loss: 0.6100 - accuracy: 0.7313 - val_loss: 0.4349 - val_accuracy: 0.9188\n",
      "Epoch 13/1000\n",
      " 1/18 [>.............................] - ETA: 0s - loss: 0.5136 - accuracy: 0.7734\n",
      "Epoch 13: saving model to model/keypoint_classifier\\keypoint_classifier.hdf5\n",
      "18/18 [==============================] - 0s 5ms/step - loss: 0.5735 - accuracy: 0.7407 - val_loss: 0.4113 - val_accuracy: 0.9095\n",
      "Epoch 14/1000\n",
      " 1/18 [>.............................] - ETA: 0s - loss: 0.5804 - accuracy: 0.7500\n",
      "Epoch 14: saving model to model/keypoint_classifier\\keypoint_classifier.hdf5\n",
      "18/18 [==============================] - 0s 4ms/step - loss: 0.5357 - accuracy: 0.7531 - val_loss: 0.3830 - val_accuracy: 0.9348\n",
      "Epoch 15/1000\n",
      " 1/18 [>.............................] - ETA: 0s - loss: 0.4634 - accuracy: 0.8203\n",
      "Epoch 15: saving model to model/keypoint_classifier\\keypoint_classifier.hdf5\n",
      "18/18 [==============================] - 0s 4ms/step - loss: 0.5016 - accuracy: 0.7837 - val_loss: 0.3613 - val_accuracy: 0.9361\n",
      "Epoch 16/1000\n",
      " 1/18 [>.............................] - ETA: 0s - loss: 0.5245 - accuracy: 0.7344\n",
      "Epoch 16: saving model to model/keypoint_classifier\\keypoint_classifier.hdf5\n",
      "18/18 [==============================] - 0s 7ms/step - loss: 0.5099 - accuracy: 0.7713 - val_loss: 0.3537 - val_accuracy: 0.9374\n",
      "Epoch 17/1000\n",
      "16/18 [=========================>....] - ETA: 0s - loss: 0.4966 - accuracy: 0.7793\n",
      "Epoch 17: saving model to model/keypoint_classifier\\keypoint_classifier.hdf5\n",
      "18/18 [==============================] - 0s 23ms/step - loss: 0.4921 - accuracy: 0.7789 - val_loss: 0.3452 - val_accuracy: 0.9401\n",
      "Epoch 18/1000\n",
      " 1/18 [>.............................] - ETA: 1s - loss: 0.4270 - accuracy: 0.7812\n",
      "Epoch 18: saving model to model/keypoint_classifier\\keypoint_classifier.hdf5\n",
      "18/18 [==============================] - 0s 17ms/step - loss: 0.4494 - accuracy: 0.8148 - val_loss: 0.3299 - val_accuracy: 0.9481\n",
      "Epoch 19/1000\n",
      " 1/18 [>.............................] - ETA: 0s - loss: 0.4019 - accuracy: 0.8281\n",
      "Epoch 19: saving model to model/keypoint_classifier\\keypoint_classifier.hdf5\n",
      "18/18 [==============================] - 0s 5ms/step - loss: 0.4448 - accuracy: 0.8073 - val_loss: 0.3126 - val_accuracy: 0.9561\n",
      "Epoch 20/1000\n",
      " 1/18 [>.............................] - ETA: 0s - loss: 0.4717 - accuracy: 0.7734\n",
      "Epoch 20: saving model to model/keypoint_classifier\\keypoint_classifier.hdf5\n",
      "18/18 [==============================] - 0s 5ms/step - loss: 0.4447 - accuracy: 0.8082 - val_loss: 0.3087 - val_accuracy: 0.9547\n",
      "Epoch 21/1000\n",
      " 1/18 [>.............................] - ETA: 0s - loss: 0.4040 - accuracy: 0.8125\n",
      "Epoch 21: saving model to model/keypoint_classifier\\keypoint_classifier.hdf5\n",
      "18/18 [==============================] - 0s 5ms/step - loss: 0.4234 - accuracy: 0.8224 - val_loss: 0.3007 - val_accuracy: 0.9627\n",
      "Epoch 22/1000\n",
      " 1/18 [>.............................] - ETA: 0s - loss: 0.5077 - accuracy: 0.8047\n",
      "Epoch 22: saving model to model/keypoint_classifier\\keypoint_classifier.hdf5\n",
      "18/18 [==============================] - 0s 5ms/step - loss: 0.4075 - accuracy: 0.8317 - val_loss: 0.2920 - val_accuracy: 0.9574\n",
      "Epoch 23/1000\n",
      " 1/18 [>.............................] - ETA: 0s - loss: 0.4583 - accuracy: 0.8203\n",
      "Epoch 23: saving model to model/keypoint_classifier\\keypoint_classifier.hdf5\n",
      "18/18 [==============================] - 0s 5ms/step - loss: 0.3916 - accuracy: 0.8344 - val_loss: 0.2855 - val_accuracy: 0.9587\n",
      "Epoch 24/1000\n",
      " 1/18 [>.............................] - ETA: 0s - loss: 0.4103 - accuracy: 0.8125\n",
      "Epoch 24: saving model to model/keypoint_classifier\\keypoint_classifier.hdf5\n",
      "18/18 [==============================] - 0s 5ms/step - loss: 0.3905 - accuracy: 0.8321 - val_loss: 0.2775 - val_accuracy: 0.9614\n",
      "Epoch 25/1000\n",
      " 1/18 [>.............................] - ETA: 0s - loss: 0.3833 - accuracy: 0.8359\n",
      "Epoch 25: saving model to model/keypoint_classifier\\keypoint_classifier.hdf5\n",
      "18/18 [==============================] - 0s 5ms/step - loss: 0.3879 - accuracy: 0.8397 - val_loss: 0.2706 - val_accuracy: 0.9601\n",
      "Epoch 26/1000\n",
      " 1/18 [>.............................] - ETA: 0s - loss: 0.3537 - accuracy: 0.8438\n",
      "Epoch 26: saving model to model/keypoint_classifier\\keypoint_classifier.hdf5\n",
      "18/18 [==============================] - 0s 4ms/step - loss: 0.3819 - accuracy: 0.8424 - val_loss: 0.2748 - val_accuracy: 0.9654\n",
      "Epoch 27/1000\n",
      " 1/18 [>.............................] - ETA: 0s - loss: 0.3493 - accuracy: 0.8750\n",
      "Epoch 27: saving model to model/keypoint_classifier\\keypoint_classifier.hdf5\n",
      "18/18 [==============================] - 0s 5ms/step - loss: 0.3662 - accuracy: 0.8481 - val_loss: 0.2620 - val_accuracy: 0.9614\n",
      "Epoch 28/1000\n",
      " 1/18 [>.............................] - ETA: 0s - loss: 0.3579 - accuracy: 0.8516\n",
      "Epoch 28: saving model to model/keypoint_classifier\\keypoint_classifier.hdf5\n",
      "18/18 [==============================] - 0s 4ms/step - loss: 0.3692 - accuracy: 0.8472 - val_loss: 0.2561 - val_accuracy: 0.9667\n",
      "Epoch 29/1000\n",
      " 1/18 [>.............................] - ETA: 0s - loss: 0.3028 - accuracy: 0.8906\n",
      "Epoch 29: saving model to model/keypoint_classifier\\keypoint_classifier.hdf5\n",
      "18/18 [==============================] - 0s 5ms/step - loss: 0.3575 - accuracy: 0.8623 - val_loss: 0.2533 - val_accuracy: 0.9601\n",
      "Epoch 30/1000\n",
      " 1/18 [>.............................] - ETA: 0s - loss: 0.2665 - accuracy: 0.9062\n",
      "Epoch 30: saving model to model/keypoint_classifier\\keypoint_classifier.hdf5\n",
      "18/18 [==============================] - 0s 5ms/step - loss: 0.3674 - accuracy: 0.8446 - val_loss: 0.2535 - val_accuracy: 0.9587\n",
      "Epoch 31/1000\n",
      " 1/18 [>.............................] - ETA: 0s - loss: 0.3124 - accuracy: 0.8984\n",
      "Epoch 31: saving model to model/keypoint_classifier\\keypoint_classifier.hdf5\n",
      "18/18 [==============================] - 0s 4ms/step - loss: 0.3506 - accuracy: 0.8659 - val_loss: 0.2505 - val_accuracy: 0.9654\n",
      "Epoch 32/1000\n",
      " 1/18 [>.............................] - ETA: 0s - loss: 0.4080 - accuracy: 0.8438\n",
      "Epoch 32: saving model to model/keypoint_classifier\\keypoint_classifier.hdf5\n",
      "18/18 [==============================] - 0s 6ms/step - loss: 0.3494 - accuracy: 0.8619 - val_loss: 0.2419 - val_accuracy: 0.9680\n",
      "Epoch 33/1000\n",
      " 1/18 [>.............................] - ETA: 0s - loss: 0.2930 - accuracy: 0.8984\n",
      "Epoch 33: saving model to model/keypoint_classifier\\keypoint_classifier.hdf5\n",
      "18/18 [==============================] - 0s 5ms/step - loss: 0.3446 - accuracy: 0.8610 - val_loss: 0.2370 - val_accuracy: 0.9627\n",
      "Epoch 34/1000\n",
      " 1/18 [>.............................] - ETA: 0s - loss: 0.3457 - accuracy: 0.8750\n",
      "Epoch 34: saving model to model/keypoint_classifier\\keypoint_classifier.hdf5\n",
      "18/18 [==============================] - 0s 5ms/step - loss: 0.3477 - accuracy: 0.8583 - val_loss: 0.2428 - val_accuracy: 0.9640\n",
      "Epoch 35/1000\n",
      " 1/18 [>.............................] - ETA: 0s - loss: 0.2727 - accuracy: 0.9297\n",
      "Epoch 35: saving model to model/keypoint_classifier\\keypoint_classifier.hdf5\n",
      "18/18 [==============================] - 0s 5ms/step - loss: 0.3339 - accuracy: 0.8659 - val_loss: 0.2437 - val_accuracy: 0.9680\n",
      "Epoch 36/1000\n",
      " 1/18 [>.............................] - ETA: 0s - loss: 0.4134 - accuracy: 0.8125\n",
      "Epoch 36: saving model to model/keypoint_classifier\\keypoint_classifier.hdf5\n",
      "18/18 [==============================] - 0s 5ms/step - loss: 0.3231 - accuracy: 0.8672 - val_loss: 0.2366 - val_accuracy: 0.9680\n",
      "Epoch 37/1000\n",
      " 1/18 [>.............................] - ETA: 0s - loss: 0.2635 - accuracy: 0.9062\n",
      "Epoch 37: saving model to model/keypoint_classifier\\keypoint_classifier.hdf5\n",
      "18/18 [==============================] - 0s 3ms/step - loss: 0.3305 - accuracy: 0.8681 - val_loss: 0.2288 - val_accuracy: 0.9720\n",
      "Epoch 38/1000\n",
      " 1/18 [>.............................] - ETA: 0s - loss: 0.3177 - accuracy: 0.8828\n",
      "Epoch 38: saving model to model/keypoint_classifier\\keypoint_classifier.hdf5\n",
      "18/18 [==============================] - 0s 3ms/step - loss: 0.3301 - accuracy: 0.8690 - val_loss: 0.2267 - val_accuracy: 0.9680\n",
      "Epoch 39/1000\n",
      " 1/18 [>.............................] - ETA: 0s - loss: 0.3259 - accuracy: 0.8906\n",
      "Epoch 39: saving model to model/keypoint_classifier\\keypoint_classifier.hdf5\n",
      "18/18 [==============================] - 0s 4ms/step - loss: 0.3322 - accuracy: 0.8641 - val_loss: 0.2315 - val_accuracy: 0.9680\n",
      "Epoch 40/1000\n",
      " 1/18 [>.............................] - ETA: 0s - loss: 0.2915 - accuracy: 0.8984\n",
      "Epoch 40: saving model to model/keypoint_classifier\\keypoint_classifier.hdf5\n",
      "18/18 [==============================] - 0s 6ms/step - loss: 0.3234 - accuracy: 0.8717 - val_loss: 0.2271 - val_accuracy: 0.9680\n",
      "Epoch 41/1000\n",
      " 1/18 [>.............................] - ETA: 0s - loss: 0.4497 - accuracy: 0.8438\n",
      "Epoch 41: saving model to model/keypoint_classifier\\keypoint_classifier.hdf5\n",
      "18/18 [==============================] - 0s 6ms/step - loss: 0.3129 - accuracy: 0.8752 - val_loss: 0.2191 - val_accuracy: 0.9720\n",
      "Epoch 42/1000\n",
      " 1/18 [>.............................] - ETA: 0s - loss: 0.2793 - accuracy: 0.8906\n",
      "Epoch 42: saving model to model/keypoint_classifier\\keypoint_classifier.hdf5\n",
      "18/18 [==============================] - 0s 5ms/step - loss: 0.3325 - accuracy: 0.8681 - val_loss: 0.2156 - val_accuracy: 0.9654\n",
      "Epoch 43/1000\n",
      " 1/18 [>.............................] - ETA: 0s - loss: 0.2867 - accuracy: 0.8750\n",
      "Epoch 43: saving model to model/keypoint_classifier\\keypoint_classifier.hdf5\n",
      "18/18 [==============================] - 0s 3ms/step - loss: 0.3123 - accuracy: 0.8712 - val_loss: 0.2159 - val_accuracy: 0.9680\n",
      "Epoch 44/1000\n",
      " 1/18 [>.............................] - ETA: 0s - loss: 0.2063 - accuracy: 0.9453\n",
      "Epoch 44: saving model to model/keypoint_classifier\\keypoint_classifier.hdf5\n",
      "18/18 [==============================] - 0s 4ms/step - loss: 0.3153 - accuracy: 0.8770 - val_loss: 0.2218 - val_accuracy: 0.9760\n",
      "Epoch 45/1000\n",
      " 1/18 [>.............................] - ETA: 0s - loss: 0.3096 - accuracy: 0.8828\n",
      "Epoch 45: saving model to model/keypoint_classifier\\keypoint_classifier.hdf5\n",
      "18/18 [==============================] - 0s 4ms/step - loss: 0.3082 - accuracy: 0.8819 - val_loss: 0.2160 - val_accuracy: 0.9680\n",
      "Epoch 46/1000\n",
      " 1/18 [>.............................] - ETA: 0s - loss: 0.2905 - accuracy: 0.8828\n",
      "Epoch 46: saving model to model/keypoint_classifier\\keypoint_classifier.hdf5\n",
      "18/18 [==============================] - 0s 5ms/step - loss: 0.3006 - accuracy: 0.8810 - val_loss: 0.2128 - val_accuracy: 0.9707\n",
      "Epoch 47/1000\n",
      " 1/18 [>.............................] - ETA: 0s - loss: 0.2577 - accuracy: 0.8984\n",
      "Epoch 47: saving model to model/keypoint_classifier\\keypoint_classifier.hdf5\n",
      "18/18 [==============================] - 0s 5ms/step - loss: 0.3048 - accuracy: 0.8828 - val_loss: 0.2093 - val_accuracy: 0.9707\n",
      "Epoch 48/1000\n",
      " 1/18 [>.............................] - ETA: 0s - loss: 0.3340 - accuracy: 0.8750\n",
      "Epoch 48: saving model to model/keypoint_classifier\\keypoint_classifier.hdf5\n",
      "18/18 [==============================] - 0s 6ms/step - loss: 0.3057 - accuracy: 0.8752 - val_loss: 0.2113 - val_accuracy: 0.9707\n",
      "Epoch 49/1000\n",
      " 1/18 [>.............................] - ETA: 0s - loss: 0.2808 - accuracy: 0.8906\n",
      "Epoch 49: saving model to model/keypoint_classifier\\keypoint_classifier.hdf5\n",
      "18/18 [==============================] - 0s 5ms/step - loss: 0.3221 - accuracy: 0.8779 - val_loss: 0.2069 - val_accuracy: 0.9720\n",
      "Epoch 50/1000\n",
      " 1/18 [>.............................] - ETA: 0s - loss: 0.2930 - accuracy: 0.9062\n",
      "Epoch 50: saving model to model/keypoint_classifier\\keypoint_classifier.hdf5\n",
      "18/18 [==============================] - 0s 4ms/step - loss: 0.3007 - accuracy: 0.8792 - val_loss: 0.2068 - val_accuracy: 0.9747\n",
      "Epoch 51/1000\n",
      " 1/18 [>.............................] - ETA: 0s - loss: 0.4162 - accuracy: 0.8438\n",
      "Epoch 51: saving model to model/keypoint_classifier\\keypoint_classifier.hdf5\n",
      "18/18 [==============================] - 0s 4ms/step - loss: 0.3055 - accuracy: 0.8814 - val_loss: 0.2114 - val_accuracy: 0.9720\n",
      "Epoch 52/1000\n",
      " 1/18 [>.............................] - ETA: 0s - loss: 0.3410 - accuracy: 0.9141\n",
      "Epoch 52: saving model to model/keypoint_classifier\\keypoint_classifier.hdf5\n",
      "18/18 [==============================] - 0s 5ms/step - loss: 0.3012 - accuracy: 0.8841 - val_loss: 0.2032 - val_accuracy: 0.9734\n",
      "Epoch 53/1000\n",
      " 1/18 [>.............................] - ETA: 0s - loss: 0.2666 - accuracy: 0.8906\n",
      "Epoch 53: saving model to model/keypoint_classifier\\keypoint_classifier.hdf5\n",
      "18/18 [==============================] - 0s 5ms/step - loss: 0.2724 - accuracy: 0.8917 - val_loss: 0.1974 - val_accuracy: 0.9747\n",
      "Epoch 54/1000\n",
      " 1/18 [>.............................] - ETA: 0s - loss: 0.3003 - accuracy: 0.9141\n",
      "Epoch 54: saving model to model/keypoint_classifier\\keypoint_classifier.hdf5\n",
      "18/18 [==============================] - 0s 5ms/step - loss: 0.2924 - accuracy: 0.8877 - val_loss: 0.1962 - val_accuracy: 0.9734\n",
      "Epoch 55/1000\n",
      " 1/18 [>.............................] - ETA: 0s - loss: 0.3074 - accuracy: 0.8750\n",
      "Epoch 55: saving model to model/keypoint_classifier\\keypoint_classifier.hdf5\n",
      "18/18 [==============================] - 0s 5ms/step - loss: 0.2910 - accuracy: 0.8908 - val_loss: 0.1991 - val_accuracy: 0.9734\n",
      "Epoch 56/1000\n",
      " 1/18 [>.............................] - ETA: 0s - loss: 0.2743 - accuracy: 0.8906\n",
      "Epoch 56: saving model to model/keypoint_classifier\\keypoint_classifier.hdf5\n",
      "18/18 [==============================] - 0s 4ms/step - loss: 0.2835 - accuracy: 0.8921 - val_loss: 0.1980 - val_accuracy: 0.9747\n",
      "Epoch 57/1000\n",
      " 1/18 [>.............................] - ETA: 0s - loss: 0.3121 - accuracy: 0.8828\n",
      "Epoch 57: saving model to model/keypoint_classifier\\keypoint_classifier.hdf5\n",
      "18/18 [==============================] - 0s 4ms/step - loss: 0.2888 - accuracy: 0.8766 - val_loss: 0.1995 - val_accuracy: 0.9707\n",
      "Epoch 58/1000\n",
      " 1/18 [>.............................] - ETA: 0s - loss: 0.3125 - accuracy: 0.8828\n",
      "Epoch 58: saving model to model/keypoint_classifier\\keypoint_classifier.hdf5\n",
      "18/18 [==============================] - 0s 4ms/step - loss: 0.2845 - accuracy: 0.8899 - val_loss: 0.2012 - val_accuracy: 0.9760\n",
      "Epoch 59/1000\n",
      " 1/18 [>.............................] - ETA: 0s - loss: 0.2539 - accuracy: 0.8906\n",
      "Epoch 59: saving model to model/keypoint_classifier\\keypoint_classifier.hdf5\n",
      "18/18 [==============================] - 0s 4ms/step - loss: 0.2841 - accuracy: 0.8930 - val_loss: 0.1986 - val_accuracy: 0.9734\n",
      "Epoch 60/1000\n",
      " 1/18 [>.............................] - ETA: 0s - loss: 0.2617 - accuracy: 0.9062\n",
      "Epoch 60: saving model to model/keypoint_classifier\\keypoint_classifier.hdf5\n",
      "18/18 [==============================] - 0s 5ms/step - loss: 0.2833 - accuracy: 0.8934 - val_loss: 0.2022 - val_accuracy: 0.9747\n",
      "Epoch 61/1000\n",
      " 1/18 [>.............................] - ETA: 0s - loss: 0.3437 - accuracy: 0.8516\n",
      "Epoch 61: saving model to model/keypoint_classifier\\keypoint_classifier.hdf5\n",
      "18/18 [==============================] - 0s 5ms/step - loss: 0.2766 - accuracy: 0.8939 - val_loss: 0.2061 - val_accuracy: 0.9747\n",
      "Epoch 62/1000\n",
      " 1/18 [>.............................] - ETA: 0s - loss: 0.2450 - accuracy: 0.8828\n",
      "Epoch 62: saving model to model/keypoint_classifier\\keypoint_classifier.hdf5\n",
      "18/18 [==============================] - 0s 6ms/step - loss: 0.2879 - accuracy: 0.8828 - val_loss: 0.2009 - val_accuracy: 0.9747\n",
      "Epoch 63/1000\n",
      " 1/18 [>.............................] - ETA: 0s - loss: 0.3394 - accuracy: 0.8750\n",
      "Epoch 63: saving model to model/keypoint_classifier\\keypoint_classifier.hdf5\n",
      "18/18 [==============================] - 0s 5ms/step - loss: 0.2863 - accuracy: 0.8930 - val_loss: 0.2001 - val_accuracy: 0.9787\n",
      "Epoch 64/1000\n",
      " 1/18 [>.............................] - ETA: 0s - loss: 0.2377 - accuracy: 0.9219\n",
      "Epoch 64: saving model to model/keypoint_classifier\\keypoint_classifier.hdf5\n",
      "18/18 [==============================] - 0s 4ms/step - loss: 0.2871 - accuracy: 0.8832 - val_loss: 0.1914 - val_accuracy: 0.9787\n",
      "Epoch 65/1000\n",
      " 1/18 [>.............................] - ETA: 0s - loss: 0.3088 - accuracy: 0.8594\n",
      "Epoch 65: saving model to model/keypoint_classifier\\keypoint_classifier.hdf5\n",
      "18/18 [==============================] - 0s 5ms/step - loss: 0.2829 - accuracy: 0.8872 - val_loss: 0.1960 - val_accuracy: 0.9774\n",
      "Epoch 66/1000\n",
      " 1/18 [>.............................] - ETA: 0s - loss: 0.2496 - accuracy: 0.9219\n",
      "Epoch 66: saving model to model/keypoint_classifier\\keypoint_classifier.hdf5\n",
      "18/18 [==============================] - 0s 6ms/step - loss: 0.2678 - accuracy: 0.8983 - val_loss: 0.1911 - val_accuracy: 0.9734\n",
      "Epoch 67/1000\n",
      " 1/18 [>.............................] - ETA: 0s - loss: 0.3658 - accuracy: 0.8281\n",
      "Epoch 67: saving model to model/keypoint_classifier\\keypoint_classifier.hdf5\n",
      "18/18 [==============================] - 0s 6ms/step - loss: 0.2748 - accuracy: 0.8894 - val_loss: 0.1890 - val_accuracy: 0.9774\n",
      "Epoch 68/1000\n",
      " 1/18 [>.............................] - ETA: 0s - loss: 0.2473 - accuracy: 0.9062\n",
      "Epoch 68: saving model to model/keypoint_classifier\\keypoint_classifier.hdf5\n",
      "18/18 [==============================] - 0s 4ms/step - loss: 0.2589 - accuracy: 0.8988 - val_loss: 0.1881 - val_accuracy: 0.9760\n",
      "Epoch 69/1000\n",
      " 1/18 [>.............................] - ETA: 0s - loss: 0.2390 - accuracy: 0.8984\n",
      "Epoch 69: saving model to model/keypoint_classifier\\keypoint_classifier.hdf5\n",
      "18/18 [==============================] - 0s 3ms/step - loss: 0.2675 - accuracy: 0.8881 - val_loss: 0.1909 - val_accuracy: 0.9747\n",
      "Epoch 70/1000\n",
      " 1/18 [>.............................] - ETA: 0s - loss: 0.3581 - accuracy: 0.8359\n",
      "Epoch 70: saving model to model/keypoint_classifier\\keypoint_classifier.hdf5\n",
      "18/18 [==============================] - 0s 5ms/step - loss: 0.2795 - accuracy: 0.8952 - val_loss: 0.1907 - val_accuracy: 0.9814\n",
      "Epoch 71/1000\n",
      " 1/18 [>.............................] - ETA: 0s - loss: 0.2315 - accuracy: 0.9219\n",
      "Epoch 71: saving model to model/keypoint_classifier\\keypoint_classifier.hdf5\n",
      "18/18 [==============================] - 0s 4ms/step - loss: 0.2604 - accuracy: 0.9023 - val_loss: 0.1888 - val_accuracy: 0.9800\n",
      "Epoch 72/1000\n",
      " 1/18 [>.............................] - ETA: 0s - loss: 0.2447 - accuracy: 0.8984\n",
      "Epoch 72: saving model to model/keypoint_classifier\\keypoint_classifier.hdf5\n",
      "18/18 [==============================] - 0s 4ms/step - loss: 0.2678 - accuracy: 0.9050 - val_loss: 0.1835 - val_accuracy: 0.9800\n",
      "Epoch 73/1000\n",
      " 1/18 [>.............................] - ETA: 0s - loss: 0.3409 - accuracy: 0.8594\n",
      "Epoch 73: saving model to model/keypoint_classifier\\keypoint_classifier.hdf5\n",
      "18/18 [==============================] - 0s 4ms/step - loss: 0.2647 - accuracy: 0.9010 - val_loss: 0.1833 - val_accuracy: 0.9774\n",
      "Epoch 74/1000\n",
      " 1/18 [>.............................] - ETA: 0s - loss: 0.2886 - accuracy: 0.8906\n",
      "Epoch 74: saving model to model/keypoint_classifier\\keypoint_classifier.hdf5\n",
      "18/18 [==============================] - 0s 5ms/step - loss: 0.2725 - accuracy: 0.8921 - val_loss: 0.1840 - val_accuracy: 0.9774\n",
      "Epoch 75/1000\n",
      " 1/18 [>.............................] - ETA: 0s - loss: 0.2324 - accuracy: 0.8984\n",
      "Epoch 75: saving model to model/keypoint_classifier\\keypoint_classifier.hdf5\n",
      "18/18 [==============================] - 0s 4ms/step - loss: 0.2546 - accuracy: 0.9014 - val_loss: 0.1794 - val_accuracy: 0.9814\n",
      "Epoch 76/1000\n",
      " 1/18 [>.............................] - ETA: 0s - loss: 0.2235 - accuracy: 0.9141\n",
      "Epoch 76: saving model to model/keypoint_classifier\\keypoint_classifier.hdf5\n",
      "18/18 [==============================] - 0s 4ms/step - loss: 0.2566 - accuracy: 0.9019 - val_loss: 0.1782 - val_accuracy: 0.9800\n",
      "Epoch 77/1000\n",
      " 1/18 [>.............................] - ETA: 0s - loss: 0.2940 - accuracy: 0.8750\n",
      "Epoch 77: saving model to model/keypoint_classifier\\keypoint_classifier.hdf5\n",
      "18/18 [==============================] - 0s 4ms/step - loss: 0.2739 - accuracy: 0.8930 - val_loss: 0.1820 - val_accuracy: 0.9800\n",
      "Epoch 78/1000\n",
      " 1/18 [>.............................] - ETA: 0s - loss: 0.2785 - accuracy: 0.9219\n",
      "Epoch 78: saving model to model/keypoint_classifier\\keypoint_classifier.hdf5\n",
      "18/18 [==============================] - 0s 4ms/step - loss: 0.2619 - accuracy: 0.8930 - val_loss: 0.1853 - val_accuracy: 0.9800\n",
      "Epoch 79/1000\n",
      " 1/18 [>.............................] - ETA: 0s - loss: 0.3080 - accuracy: 0.8750\n",
      "Epoch 79: saving model to model/keypoint_classifier\\keypoint_classifier.hdf5\n",
      "18/18 [==============================] - 0s 6ms/step - loss: 0.2592 - accuracy: 0.8974 - val_loss: 0.1885 - val_accuracy: 0.9814\n",
      "Epoch 80/1000\n",
      " 1/18 [>.............................] - ETA: 0s - loss: 0.2907 - accuracy: 0.9141\n",
      "Epoch 80: saving model to model/keypoint_classifier\\keypoint_classifier.hdf5\n",
      "18/18 [==============================] - 0s 4ms/step - loss: 0.2749 - accuracy: 0.8917 - val_loss: 0.1918 - val_accuracy: 0.9800\n",
      "Epoch 81/1000\n",
      " 1/18 [>.............................] - ETA: 0s - loss: 0.2666 - accuracy: 0.8828\n",
      "Epoch 81: saving model to model/keypoint_classifier\\keypoint_classifier.hdf5\n",
      "18/18 [==============================] - 0s 4ms/step - loss: 0.2852 - accuracy: 0.8819 - val_loss: 0.1946 - val_accuracy: 0.9814\n",
      "Epoch 82/1000\n",
      " 1/18 [>.............................] - ETA: 0s - loss: 0.2865 - accuracy: 0.8828\n",
      "Epoch 82: saving model to model/keypoint_classifier\\keypoint_classifier.hdf5\n",
      "18/18 [==============================] - 0s 4ms/step - loss: 0.2638 - accuracy: 0.8992 - val_loss: 0.1919 - val_accuracy: 0.9814\n",
      "Epoch 83/1000\n",
      " 1/18 [>.............................] - ETA: 0s - loss: 0.2186 - accuracy: 0.9219\n",
      "Epoch 83: saving model to model/keypoint_classifier\\keypoint_classifier.hdf5\n",
      "18/18 [==============================] - 0s 6ms/step - loss: 0.2686 - accuracy: 0.9045 - val_loss: 0.1857 - val_accuracy: 0.9814\n",
      "Epoch 84/1000\n",
      " 1/18 [>.............................] - ETA: 0s - loss: 0.3093 - accuracy: 0.8828\n",
      "Epoch 84: saving model to model/keypoint_classifier\\keypoint_classifier.hdf5\n",
      "18/18 [==============================] - 0s 7ms/step - loss: 0.2726 - accuracy: 0.8903 - val_loss: 0.1864 - val_accuracy: 0.9827\n",
      "Epoch 85/1000\n",
      " 1/18 [>.............................] - ETA: 0s - loss: 0.3018 - accuracy: 0.8906\n",
      "Epoch 85: saving model to model/keypoint_classifier\\keypoint_classifier.hdf5\n",
      "18/18 [==============================] - 0s 4ms/step - loss: 0.2678 - accuracy: 0.8988 - val_loss: 0.1875 - val_accuracy: 0.9800\n",
      "Epoch 86/1000\n",
      " 1/18 [>.............................] - ETA: 0s - loss: 0.2859 - accuracy: 0.8750\n",
      "Epoch 86: saving model to model/keypoint_classifier\\keypoint_classifier.hdf5\n",
      "18/18 [==============================] - 0s 5ms/step - loss: 0.2590 - accuracy: 0.8988 - val_loss: 0.1838 - val_accuracy: 0.9800\n",
      "Epoch 87/1000\n",
      " 1/18 [>.............................] - ETA: 0s - loss: 0.3088 - accuracy: 0.8594\n",
      "Epoch 87: saving model to model/keypoint_classifier\\keypoint_classifier.hdf5\n",
      "18/18 [==============================] - 0s 5ms/step - loss: 0.2569 - accuracy: 0.9001 - val_loss: 0.1789 - val_accuracy: 0.9814\n",
      "Epoch 88/1000\n",
      " 1/18 [>.............................] - ETA: 0s - loss: 0.2051 - accuracy: 0.9375\n",
      "Epoch 88: saving model to model/keypoint_classifier\\keypoint_classifier.hdf5\n",
      "18/18 [==============================] - 0s 4ms/step - loss: 0.2687 - accuracy: 0.8899 - val_loss: 0.1826 - val_accuracy: 0.9814\n",
      "Epoch 89/1000\n",
      " 1/18 [>.............................] - ETA: 0s - loss: 0.2940 - accuracy: 0.8984\n",
      "Epoch 89: saving model to model/keypoint_classifier\\keypoint_classifier.hdf5\n",
      "18/18 [==============================] - 0s 5ms/step - loss: 0.2606 - accuracy: 0.9023 - val_loss: 0.1873 - val_accuracy: 0.9814\n",
      "Epoch 90/1000\n",
      " 1/18 [>.............................] - ETA: 0s - loss: 0.2239 - accuracy: 0.9062\n",
      "Epoch 90: saving model to model/keypoint_classifier\\keypoint_classifier.hdf5\n",
      "18/18 [==============================] - 0s 4ms/step - loss: 0.2577 - accuracy: 0.9023 - val_loss: 0.1778 - val_accuracy: 0.9840\n",
      "Epoch 91/1000\n",
      " 1/18 [>.............................] - ETA: 0s - loss: 0.2240 - accuracy: 0.8906\n",
      "Epoch 91: saving model to model/keypoint_classifier\\keypoint_classifier.hdf5\n",
      "18/18 [==============================] - 0s 4ms/step - loss: 0.2590 - accuracy: 0.8943 - val_loss: 0.1795 - val_accuracy: 0.9787\n",
      "Epoch 92/1000\n",
      " 1/18 [>.............................] - ETA: 0s - loss: 0.1895 - accuracy: 0.9062\n",
      "Epoch 92: saving model to model/keypoint_classifier\\keypoint_classifier.hdf5\n",
      "18/18 [==============================] - 0s 4ms/step - loss: 0.2458 - accuracy: 0.9121 - val_loss: 0.1781 - val_accuracy: 0.9787\n",
      "Epoch 93/1000\n",
      " 1/18 [>.............................] - ETA: 0s - loss: 0.1722 - accuracy: 0.9453\n",
      "Epoch 93: saving model to model/keypoint_classifier\\keypoint_classifier.hdf5\n",
      "18/18 [==============================] - 0s 4ms/step - loss: 0.2548 - accuracy: 0.9063 - val_loss: 0.1759 - val_accuracy: 0.9800\n",
      "Epoch 94/1000\n",
      " 1/18 [>.............................] - ETA: 0s - loss: 0.2619 - accuracy: 0.9062\n",
      "Epoch 94: saving model to model/keypoint_classifier\\keypoint_classifier.hdf5\n",
      "18/18 [==============================] - 0s 4ms/step - loss: 0.2524 - accuracy: 0.9005 - val_loss: 0.1831 - val_accuracy: 0.9800\n",
      "Epoch 95/1000\n",
      " 1/18 [>.............................] - ETA: 0s - loss: 0.2646 - accuracy: 0.9141\n",
      "Epoch 95: saving model to model/keypoint_classifier\\keypoint_classifier.hdf5\n",
      "18/18 [==============================] - 0s 5ms/step - loss: 0.2411 - accuracy: 0.9063 - val_loss: 0.1810 - val_accuracy: 0.9800\n",
      "Epoch 96/1000\n",
      " 1/18 [>.............................] - ETA: 0s - loss: 0.2778 - accuracy: 0.8516\n",
      "Epoch 96: saving model to model/keypoint_classifier\\keypoint_classifier.hdf5\n",
      "18/18 [==============================] - 0s 5ms/step - loss: 0.2556 - accuracy: 0.8974 - val_loss: 0.1839 - val_accuracy: 0.9840\n",
      "Epoch 97/1000\n",
      " 1/18 [>.............................] - ETA: 0s - loss: 0.2839 - accuracy: 0.8828\n",
      "Epoch 97: saving model to model/keypoint_classifier\\keypoint_classifier.hdf5\n",
      "18/18 [==============================] - 0s 5ms/step - loss: 0.2636 - accuracy: 0.8992 - val_loss: 0.1863 - val_accuracy: 0.9827\n",
      "Epoch 98/1000\n",
      " 1/18 [>.............................] - ETA: 0s - loss: 0.3825 - accuracy: 0.8594\n",
      "Epoch 98: saving model to model/keypoint_classifier\\keypoint_classifier.hdf5\n",
      "18/18 [==============================] - 0s 5ms/step - loss: 0.2641 - accuracy: 0.9005 - val_loss: 0.1848 - val_accuracy: 0.9814\n",
      "Epoch 99/1000\n",
      " 1/18 [>.............................] - ETA: 0s - loss: 0.2954 - accuracy: 0.8750\n",
      "Epoch 99: saving model to model/keypoint_classifier\\keypoint_classifier.hdf5\n",
      "18/18 [==============================] - 0s 3ms/step - loss: 0.2478 - accuracy: 0.9023 - val_loss: 0.1862 - val_accuracy: 0.9814\n",
      "Epoch 100/1000\n",
      " 1/18 [>.............................] - ETA: 0s - loss: 0.2342 - accuracy: 0.9062\n",
      "Epoch 100: saving model to model/keypoint_classifier\\keypoint_classifier.hdf5\n",
      "18/18 [==============================] - 0s 4ms/step - loss: 0.2548 - accuracy: 0.9045 - val_loss: 0.1840 - val_accuracy: 0.9814\n",
      "Epoch 101/1000\n",
      " 1/18 [>.............................] - ETA: 0s - loss: 0.2604 - accuracy: 0.8984\n",
      "Epoch 101: saving model to model/keypoint_classifier\\keypoint_classifier.hdf5\n",
      "18/18 [==============================] - 0s 4ms/step - loss: 0.2454 - accuracy: 0.9032 - val_loss: 0.1783 - val_accuracy: 0.9814\n",
      "Epoch 102/1000\n",
      " 1/18 [>.............................] - ETA: 0s - loss: 0.3181 - accuracy: 0.8516\n",
      "Epoch 102: saving model to model/keypoint_classifier\\keypoint_classifier.hdf5\n",
      "18/18 [==============================] - 0s 4ms/step - loss: 0.2590 - accuracy: 0.8996 - val_loss: 0.1811 - val_accuracy: 0.9800\n",
      "Epoch 103/1000\n",
      " 1/18 [>.............................] - ETA: 0s - loss: 0.2113 - accuracy: 0.8984\n",
      "Epoch 103: saving model to model/keypoint_classifier\\keypoint_classifier.hdf5\n",
      "18/18 [==============================] - 0s 5ms/step - loss: 0.2584 - accuracy: 0.9081 - val_loss: 0.1866 - val_accuracy: 0.9814\n",
      "Epoch 104/1000\n",
      " 1/18 [>.............................] - ETA: 0s - loss: 0.2299 - accuracy: 0.9297\n",
      "Epoch 104: saving model to model/keypoint_classifier\\keypoint_classifier.hdf5\n",
      "18/18 [==============================] - 0s 4ms/step - loss: 0.2593 - accuracy: 0.8939 - val_loss: 0.1822 - val_accuracy: 0.9800\n",
      "Epoch 105/1000\n",
      " 1/18 [>.............................] - ETA: 0s - loss: 0.2538 - accuracy: 0.9141\n",
      "Epoch 105: saving model to model/keypoint_classifier\\keypoint_classifier.hdf5\n",
      "18/18 [==============================] - 0s 5ms/step - loss: 0.2354 - accuracy: 0.9094 - val_loss: 0.1789 - val_accuracy: 0.9827\n",
      "Epoch 106/1000\n",
      " 1/18 [>.............................] - ETA: 0s - loss: 0.2446 - accuracy: 0.9062\n",
      "Epoch 106: saving model to model/keypoint_classifier\\keypoint_classifier.hdf5\n",
      "18/18 [==============================] - 0s 4ms/step - loss: 0.2320 - accuracy: 0.9045 - val_loss: 0.1781 - val_accuracy: 0.9827\n",
      "Epoch 107/1000\n",
      " 1/18 [>.............................] - ETA: 0s - loss: 0.2829 - accuracy: 0.8984\n",
      "Epoch 107: saving model to model/keypoint_classifier\\keypoint_classifier.hdf5\n",
      "18/18 [==============================] - 0s 3ms/step - loss: 0.2442 - accuracy: 0.9023 - val_loss: 0.1825 - val_accuracy: 0.9827\n",
      "Epoch 108/1000\n",
      " 1/18 [>.............................] - ETA: 0s - loss: 0.1953 - accuracy: 0.8984\n",
      "Epoch 108: saving model to model/keypoint_classifier\\keypoint_classifier.hdf5\n",
      "18/18 [==============================] - 0s 4ms/step - loss: 0.2521 - accuracy: 0.9010 - val_loss: 0.1789 - val_accuracy: 0.9827\n",
      "Epoch 109/1000\n",
      " 1/18 [>.............................] - ETA: 0s - loss: 0.2750 - accuracy: 0.8906\n",
      "Epoch 109: saving model to model/keypoint_classifier\\keypoint_classifier.hdf5\n",
      "18/18 [==============================] - 0s 4ms/step - loss: 0.2509 - accuracy: 0.8992 - val_loss: 0.1844 - val_accuracy: 0.9827\n",
      "Epoch 110/1000\n",
      " 1/18 [>.............................] - ETA: 0s - loss: 0.2115 - accuracy: 0.9141\n",
      "Epoch 110: saving model to model/keypoint_classifier\\keypoint_classifier.hdf5\n",
      "18/18 [==============================] - 0s 4ms/step - loss: 0.2442 - accuracy: 0.9099 - val_loss: 0.1884 - val_accuracy: 0.9840\n",
      "Epoch 111/1000\n",
      " 1/18 [>.............................] - ETA: 0s - loss: 0.2771 - accuracy: 0.8516\n",
      "Epoch 111: saving model to model/keypoint_classifier\\keypoint_classifier.hdf5\n",
      "18/18 [==============================] - 0s 4ms/step - loss: 0.2629 - accuracy: 0.8956 - val_loss: 0.1808 - val_accuracy: 0.9800\n",
      "Epoch 112/1000\n",
      " 1/18 [>.............................] - ETA: 0s - loss: 0.2143 - accuracy: 0.9141\n",
      "Epoch 112: saving model to model/keypoint_classifier\\keypoint_classifier.hdf5\n",
      "18/18 [==============================] - 0s 4ms/step - loss: 0.2392 - accuracy: 0.9041 - val_loss: 0.1869 - val_accuracy: 0.9827\n",
      "Epoch 113/1000\n",
      " 1/18 [>.............................] - ETA: 0s - loss: 0.2269 - accuracy: 0.9297\n",
      "Epoch 113: saving model to model/keypoint_classifier\\keypoint_classifier.hdf5\n",
      "18/18 [==============================] - 0s 4ms/step - loss: 0.2466 - accuracy: 0.9023 - val_loss: 0.1845 - val_accuracy: 0.9814\n",
      "Epoch 113: early stopping\n"
     ]
    },
    {
     "data": {
      "text/plain": [
       "<keras.callbacks.History at 0x1b8eab69af0>"
      ]
     },
     "execution_count": 12,
     "metadata": {},
     "output_type": "execute_result"
    }
   ],
   "source": [
    "model.fit(\n",
    "    X_train,\n",
    "    y_train,\n",
    "    epochs=1000,\n",
    "    batch_size=128,\n",
    "    validation_data=(X_test, y_test),\n",
    "    callbacks=[cp_callback, es_callback]\n",
    ")"
   ]
  },
  {
   "cell_type": "code",
   "execution_count": 13,
   "metadata": {
    "colab": {
     "base_uri": "https://localhost:8080/"
    },
    "id": "pxvb2Y299hE3",
    "outputId": "59eb3185-2e37-4b9e-bc9d-ab1b8ac29b7f"
   },
   "outputs": [
    {
     "name": "stdout",
     "output_type": "stream",
     "text": [
      "6/6 [==============================] - 0s 1ms/step - loss: 0.1845 - accuracy: 0.9814\n"
     ]
    }
   ],
   "source": [
    "# Model evaluation\n",
    "val_loss, val_acc = model.evaluate(X_test, y_test, batch_size=128)"
   ]
  },
  {
   "cell_type": "code",
   "execution_count": 14,
   "metadata": {
    "id": "RBkmDeUW9hE4"
   },
   "outputs": [],
   "source": [
    "# Loading the saved model\n",
    "model = tf.keras.models.load_model(model_save_path)"
   ]
  },
  {
   "cell_type": "code",
   "execution_count": 15,
   "metadata": {
    "colab": {
     "base_uri": "https://localhost:8080/"
    },
    "id": "tFz9Tb0I9hE4",
    "outputId": "1c3b3528-54ae-4ee2-ab04-77429211cbef"
   },
   "outputs": [
    {
     "name": "stdout",
     "output_type": "stream",
     "text": [
      "1/1 [==============================] - 0s 78ms/step\n",
      "[1.5696606e-01 6.3362073e-05 8.4297061e-01]\n",
      "2\n"
     ]
    }
   ],
   "source": [
    "# Inference test\n",
    "predict_result = model.predict(np.array([X_test[0]]))\n",
    "print(np.squeeze(predict_result))\n",
    "print(np.argmax(np.squeeze(predict_result)))"
   ]
  },
  {
   "cell_type": "markdown",
   "metadata": {
    "id": "S3U4yNWx9hE4"
   },
   "source": [
    "# Confusion matrix"
   ]
  },
  {
   "cell_type": "code",
   "execution_count": 16,
   "metadata": {
    "colab": {
     "base_uri": "https://localhost:8080/",
     "height": 582
    },
    "id": "AP1V6SCk9hE5",
    "outputId": "08e41a80-7a4a-4619-8125-ecc371368d19"
   },
   "outputs": [
    {
     "name": "stdout",
     "output_type": "stream",
     "text": [
      "24/24 [==============================] - 0s 875us/step\n"
     ]
    },
    {
     "data": {
      "image/png": "[encoded data removed]",
      "text/plain": [
       "<Figure size 700x600 with 2 Axes>"
      ]
     },
     "metadata": {},
     "output_type": "display_data"
    },
    {
     "name": "stdout",
     "output_type": "stream",
     "text": [
      "Classification Report\n",
      "              precision    recall  f1-score   support\n",
      "\n",
      "           0       0.98      0.98      0.98       258\n",
      "           1       0.99      0.99      0.99       232\n",
      "           2       0.98      0.98      0.98       261\n",
      "\n",
      "    accuracy                           0.98       751\n",
      "   macro avg       0.98      0.98      0.98       751\n",
      "weighted avg       0.98      0.98      0.98       751\n",
      "\n"
     ]
    }
   ],
   "source": [
    "import pandas as pd\n",
    "import seaborn as sns\n",
    "import matplotlib.pyplot as plt\n",
    "from sklearn.metrics import confusion_matrix, classification_report\n",
    "\n",
    "def print_confusion_matrix(y_true, y_pred, report=True):\n",
    "    labels = sorted(list(set(y_true)))\n",
    "    cmx_data = confusion_matrix(y_true, y_pred, labels=labels)\n",
    "    \n",
    "    df_cmx = pd.DataFrame(cmx_data, index=labels, columns=labels)\n",
    " \n",
    "    fig, ax = plt.subplots(figsize=(7, 6))\n",
    "    sns.heatmap(df_cmx, annot=True, fmt='g' ,square=False)\n",
    "    ax.set_ylim(len(set(y_true)), 0)\n",
    "    plt.show()\n",
    "    \n",
    "    if report:\n",
    "        print('Classification Report')\n",
    "        print(classification_report(y_test, y_pred))\n",
    "\n",
    "Y_pred = model.predict(X_test)\n",
    "y_pred = np.argmax(Y_pred, axis=1)\n",
    "\n",
    "print_confusion_matrix(y_test, y_pred)"
   ]
  },
  {
   "cell_type": "markdown",
   "metadata": {
    "id": "FNP6aqzc9hE5"
   },
   "source": [
    "# Convert to model for Tensorflow-Lite"
   ]
  },
  {
   "cell_type": "code",
   "execution_count": 17,
   "metadata": {
    "id": "ODjnYyld9hE6"
   },
   "outputs": [],
   "source": [
    "# Save as a model dedicated to inference\n",
    "model.save(model_save_path, include_optimizer=False)"
   ]
  },
  {
   "cell_type": "code",
   "execution_count": 18,
   "metadata": {
    "colab": {
     "base_uri": "https://localhost:8080/"
    },
    "id": "zRfuK8Y59hE6",
    "outputId": "a4ca585c-b5d5-4244-8291-8674063209bb"
   },
   "outputs": [
    {
     "name": "stdout",
     "output_type": "stream",
     "text": [
      "INFO:tensorflow:Assets written to: C:\\Users\\User\\AppData\\Local\\Temp\\tmpor79ej4g\\assets\n"
     ]
    },
    {
     "data": {
      "text/plain": [
       "6444"
      ]
     },
     "execution_count": 18,
     "metadata": {},
     "output_type": "execute_result"
    }
   ],
   "source": [
    "# Transform model (quantization)\n",
    "\n",
    "converter = tf.lite.TFLiteConverter.from_keras_model(model)\n",
    "converter.optimizations = [tf.lite.Optimize.DEFAULT]\n",
    "tflite_quantized_model = converter.convert()\n",
    "\n",
    "open(tflite_save_path, 'wb').write(tflite_quantized_model)"
   ]
  },
  {
   "cell_type": "markdown",
   "metadata": {
    "id": "CHBPBXdx9hE6"
   },
   "source": [
    "# Inference test"
   ]
  },
  {
   "cell_type": "code",
   "execution_count": 19,
   "metadata": {
    "id": "mGAzLocO9hE7"
   },
   "outputs": [],
   "source": [
    "interpreter = tf.lite.Interpreter(model_path=tflite_save_path)\n",
    "interpreter.allocate_tensors()"
   ]
  },
  {
   "cell_type": "code",
   "execution_count": 20,
   "metadata": {
    "id": "oQuDK8YS9hE7"
   },
   "outputs": [],
   "source": [
    "# Get I / O tensor\n",
    "input_details = interpreter.get_input_details()\n",
    "output_details = interpreter.get_output_details()"
   ]
  },
  {
   "cell_type": "code",
   "execution_count": 21,
   "metadata": {
    "id": "2_ixAf_l9hE7"
   },
   "outputs": [],
   "source": [
    "interpreter.set_tensor(input_details[0]['index'], np.array([X_test[0]]))"
   ]
  },
  {
   "cell_type": "code",
   "execution_count": 22,
   "metadata": {
    "colab": {
     "base_uri": "https://localhost:8080/"
    },
    "id": "s4FoAnuc9hE7",
    "outputId": "91f18257-8d8b-4ef3-c558-e9b5f94fabbf",
    "scrolled": true
   },
   "outputs": [
    {
     "name": "stdout",
     "output_type": "stream",
     "text": [
      "CPU times: total: 0 ns\n",
      "Wall time: 999 µs\n"
     ]
    }
   ],
   "source": [
    "%%time\n",
    "# Inference implementation\n",
    "interpreter.invoke()\n",
    "tflite_results = interpreter.get_tensor(output_details[0]['index'])"
   ]
  },
  {
   "cell_type": "code",
   "execution_count": 23,
   "metadata": {
    "colab": {
     "base_uri": "https://localhost:8080/"
    },
    "id": "vONjp19J9hE8",
    "outputId": "77205e24-fd00-42c4-f7b6-e06e527c2cba"
   },
   "outputs": [
    {
     "name": "stdout",
     "output_type": "stream",
     "text": [
      "[1.5696605e-01 6.3362007e-05 8.4297055e-01]\n",
      "2\n"
     ]
    }
   ],
   "source": [
    "print(np.squeeze(tflite_results))\n",
    "print(np.argmax(np.squeeze(tflite_results)))"
   ]
  }
 ],
 "metadata": {
  "accelerator": "GPU",
  "colab": {
   "collapsed_sections": [],
   "name": "keypoint_classification_EN.ipynb",
   "provenance": [],
   "toc_visible": true
  },
  "kernelspec": {
   "display_name": "Python 3 (ipykernel)",
   "language": "python",
   "name": "python3"
  },
  "language_info": {
   "codemirror_mode": {
    "name": "ipython",
    "version": 3
   },
   "file_extension": ".py",
   "mimetype": "text/x-python",
   "name": "python",
   "nbconvert_exporter": "python",
   "pygments_lexer": "ipython3",
   "version": "3.9.13"
  }
 },
 "nbformat": 4,
 "nbformat_minor": 4
}
