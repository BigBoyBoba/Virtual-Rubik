{
 "cells": [
  {
   "cell_type": "code",
   "execution_count": 1,
   "metadata": {
    "id": "igMyGnjE9hEp"
   },
   "outputs": [],
   "source": [
    "import csv\n",
    "\n",
    "import numpy as np\n",
    "import tensorflow as tf\n",
    "from sklearn.model_selection import train_test_split\n",
    "\n",
    "RANDOM_SEED = 42"
   ]
  },
  {
   "cell_type": "markdown",
   "metadata": {
    "id": "t2HDvhIu9hEr"
   },
   "source": [
    "# Specify each path"
   ]
  },
  {
   "cell_type": "code",
   "execution_count": 2,
   "metadata": {
    "id": "9NvZP2Zn9hEy"
   },
   "outputs": [],
   "source": [
    "dataset = 'model/keypoint_classifier/keypoint.csv'\n",
    "model_save_path = 'model/keypoint_classifier/keypoint_classifier.hdf5'\n",
    "tflite_save_path = 'model/keypoint_classifier/keypoint_classifier.tflite'"
   ]
  },
  {
   "cell_type": "markdown",
   "metadata": {
    "id": "s5oMH7x19hEz"
   },
   "source": [
    "# Set number of classes"
   ]
  },
  {
   "cell_type": "code",
   "execution_count": 3,
   "metadata": {
    "id": "du4kodXL9hEz"
   },
   "outputs": [],
   "source": [
    "NUM_CLASSES = 12"
   ]
  },
  {
   "cell_type": "markdown",
   "metadata": {
    "id": "XjnL0uso9hEz"
   },
   "source": [
    "# Dataset reading"
   ]
  },
  {
   "cell_type": "code",
   "execution_count": 4,
   "metadata": {
    "id": "QT5ZqtEz9hE0"
   },
   "outputs": [],
   "source": [
    "X_dataset = np.loadtxt(dataset, delimiter=',', dtype='float32', usecols=list(range(1, (21 * 2) + 1)))"
   ]
  },
  {
   "cell_type": "code",
   "execution_count": 5,
   "metadata": {
    "id": "QmoKFsp49hE0"
   },
   "outputs": [],
   "source": [
    "y_dataset = np.loadtxt(dataset, delimiter=',', dtype='int32', usecols=(0))"
   ]
  },
  {
   "cell_type": "code",
   "execution_count": 6,
   "metadata": {
    "id": "xQU7JTZ_9hE0"
   },
   "outputs": [],
   "source": [
    "X_train, X_test, y_train, y_test = train_test_split(X_dataset, y_dataset, train_size=0.75, random_state=RANDOM_SEED)"
   ]
  },
  {
   "cell_type": "markdown",
   "metadata": {
    "id": "mxK_lETT9hE0"
   },
   "source": [
    "# Model building"
   ]
  },
  {
   "cell_type": "code",
   "execution_count": 7,
   "metadata": {
    "id": "vHBmUf1t9hE1"
   },
   "outputs": [],
   "source": [
    "model = tf.keras.models.Sequential([\n",
    "    tf.keras.layers.Input((21 * 2, )),\n",
    "    tf.keras.layers.Dropout(0.2),\n",
    "    tf.keras.layers.Dense(20, activation='relu'),\n",
    "    tf.keras.layers.Dropout(0.4),\n",
    "    tf.keras.layers.Dense(10, activation='relu'),\n",
    "    tf.keras.layers.Dense(NUM_CLASSES, activation='softmax')\n",
    "])"
   ]
  },
  {
   "cell_type": "code",
   "execution_count": 8,
   "metadata": {
    "colab": {
     "base_uri": "https://localhost:8080/"
    },
    "id": "ypqky9tc9hE1",
    "outputId": "5db082bb-30e3-4110-bf63-a1ee777ecd46"
   },
   "outputs": [
    {
     "name": "stdout",
     "output_type": "stream",
     "text": [
      "Model: \"sequential\"\n",
      "_________________________________________________________________\n",
      " Layer (type)                Output Shape              Param #   \n",
      "=================================================================\n",
      " dropout (Dropout)           (None, 42)                0         \n",
      "                                                                 \n",
      " dense (Dense)               (None, 20)                860       \n",
      "                                                                 \n",
      " dropout_1 (Dropout)         (None, 20)                0         \n",
      "                                                                 \n",
      " dense_1 (Dense)             (None, 10)                210       \n",
      "                                                                 \n",
      " dense_2 (Dense)             (None, 12)                132       \n",
      "                                                                 \n",
      "=================================================================\n",
      "Total params: 1,202\n",
      "Trainable params: 1,202\n",
      "Non-trainable params: 0\n",
      "_________________________________________________________________\n"
     ]
    }
   ],
   "source": [
    "model.summary()  # tf.keras.utils.plot_model(model, show_shapes=True)"
   ]
  },
  {
   "cell_type": "code",
   "execution_count": 9,
   "metadata": {
    "id": "MbMjOflQ9hE1"
   },
   "outputs": [],
   "source": [
    "# Model checkpoint callback\n",
    "cp_callback = tf.keras.callbacks.ModelCheckpoint(\n",
    "    model_save_path, verbose=1, save_weights_only=False)\n",
    "# Callback for early stopping\n",
    "es_callback = tf.keras.callbacks.EarlyStopping(patience=20, verbose=1)"
   ]
  },
  {
   "cell_type": "code",
   "execution_count": 10,
   "metadata": {
    "id": "c3Dac0M_9hE2"
   },
   "outputs": [],
   "source": [
    "# Model compilation\n",
    "model.compile(\n",
    "    optimizer='adam',\n",
    "    loss='sparse_categorical_crossentropy',\n",
    "    metrics=['accuracy']\n",
    ")"
   ]
  },
  {
   "cell_type": "markdown",
   "metadata": {
    "id": "7XI0j1Iu9hE2"
   },
   "source": [
    "# Model training"
   ]
  },
  {
   "cell_type": "code",
   "execution_count": 11,
   "metadata": {},
   "outputs": [
    {
     "name": "stdout",
     "output_type": "stream",
     "text": [
      "9350 9350\n"
     ]
    }
   ],
   "source": [
    "print(len(X_test), len(y_test))"
   ]
  },
  {
   "cell_type": "code",
   "execution_count": 12,
   "metadata": {
    "colab": {
     "base_uri": "https://localhost:8080/"
    },
    "id": "WirBl-JE9hE3",
    "outputId": "71b30ca2-8294-4d9d-8aa2-800d90d399de",
    "scrolled": true
   },
   "outputs": [
    {
     "name": "stdout",
     "output_type": "stream",
     "text": [
      "Epoch 1/1000\n",
      "207/220 [===========================>..] - ETA: 0s - loss: 2.2843 - accuracy: 0.1744  \n",
      "Epoch 1: saving model to model/keypoint_classifier\\keypoint_classifier.hdf5\n",
      "220/220 [==============================] - 1s 2ms/step - loss: 2.2758 - accuracy: 0.1773 - val_loss: 1.9866 - val_accuracy: 0.2780\n",
      "Epoch 2/1000\n",
      "201/220 [==========================>...] - ETA: 0s - loss: 1.9859 - accuracy: 0.2594\n",
      "Epoch 2: saving model to model/keypoint_classifier\\keypoint_classifier.hdf5\n",
      "220/220 [==============================] - 0s 2ms/step - loss: 1.9758 - accuracy: 0.2618 - val_loss: 1.6332 - val_accuracy: 0.4384\n",
      "Epoch 3/1000\n",
      "218/220 [============================>.] - ETA: 0s - loss: 1.7613 - accuracy: 0.3183\n",
      "Epoch 3: saving model to model/keypoint_classifier\\keypoint_classifier.hdf5\n",
      "220/220 [==============================] - 0s 2ms/step - loss: 1.7606 - accuracy: 0.3186 - val_loss: 1.3827 - val_accuracy: 0.5686\n",
      "Epoch 4/1000\n",
      "173/220 [======================>.......] - ETA: 0s - loss: 1.6317 - accuracy: 0.3616\n",
      "Epoch 4: saving model to model/keypoint_classifier\\keypoint_classifier.hdf5\n",
      "220/220 [==============================] - 0s 2ms/step - loss: 1.6191 - accuracy: 0.3681 - val_loss: 1.2242 - val_accuracy: 0.6144\n",
      "Epoch 5/1000\n",
      "200/220 [==========================>...] - ETA: 0s - loss: 1.5191 - accuracy: 0.4045\n",
      "Epoch 5: saving model to model/keypoint_classifier\\keypoint_classifier.hdf5\n",
      "220/220 [==============================] - 1s 2ms/step - loss: 1.5154 - accuracy: 0.4058 - val_loss: 1.1079 - val_accuracy: 0.6479\n",
      "Epoch 6/1000\n",
      "217/220 [============================>.] - ETA: 0s - loss: 1.4530 - accuracy: 0.4273\n",
      "Epoch 6: saving model to model/keypoint_classifier\\keypoint_classifier.hdf5\n",
      "220/220 [==============================] - 0s 2ms/step - loss: 1.4530 - accuracy: 0.4266 - val_loss: 1.0382 - val_accuracy: 0.6508\n",
      "Epoch 7/1000\n",
      "210/220 [===========================>..] - ETA: 0s - loss: 1.4064 - accuracy: 0.4445\n",
      "Epoch 7: saving model to model/keypoint_classifier\\keypoint_classifier.hdf5\n",
      "220/220 [==============================] - 0s 1ms/step - loss: 1.4050 - accuracy: 0.4449 - val_loss: 0.9957 - val_accuracy: 0.6721\n",
      "Epoch 8/1000\n",
      "210/220 [===========================>..] - ETA: 0s - loss: 1.3675 - accuracy: 0.4605\n",
      "Epoch 8: saving model to model/keypoint_classifier\\keypoint_classifier.hdf5\n",
      "220/220 [==============================] - 0s 2ms/step - loss: 1.3667 - accuracy: 0.4603 - val_loss: 0.9740 - val_accuracy: 0.6768\n",
      "Epoch 9/1000\n",
      "197/220 [=========================>....] - ETA: 0s - loss: 1.3556 - accuracy: 0.4627\n",
      "Epoch 9: saving model to model/keypoint_classifier\\keypoint_classifier.hdf5\n",
      "220/220 [==============================] - 0s 2ms/step - loss: 1.3546 - accuracy: 0.4644 - val_loss: 0.9529 - val_accuracy: 0.6720\n",
      "Epoch 10/1000\n",
      "201/220 [==========================>...] - ETA: 0s - loss: 1.3306 - accuracy: 0.4723\n",
      "Epoch 10: saving model to model/keypoint_classifier\\keypoint_classifier.hdf5\n",
      "220/220 [==============================] - 1s 2ms/step - loss: 1.3293 - accuracy: 0.4732 - val_loss: 0.9352 - val_accuracy: 0.6699\n",
      "Epoch 11/1000\n",
      "208/220 [===========================>..] - ETA: 0s - loss: 1.3179 - accuracy: 0.4778\n",
      "Epoch 11: saving model to model/keypoint_classifier\\keypoint_classifier.hdf5\n",
      "220/220 [==============================] - 1s 3ms/step - loss: 1.3169 - accuracy: 0.4769 - val_loss: 0.9161 - val_accuracy: 0.6783\n",
      "Epoch 12/1000\n",
      "215/220 [============================>.] - ETA: 0s - loss: 1.3025 - accuracy: 0.4795\n",
      "Epoch 12: saving model to model/keypoint_classifier\\keypoint_classifier.hdf5\n",
      "220/220 [==============================] - 1s 3ms/step - loss: 1.3009 - accuracy: 0.4803 - val_loss: 0.8953 - val_accuracy: 0.6758\n",
      "Epoch 13/1000\n",
      "217/220 [============================>.] - ETA: 0s - loss: 1.2993 - accuracy: 0.4818\n",
      "Epoch 13: saving model to model/keypoint_classifier\\keypoint_classifier.hdf5\n",
      "220/220 [==============================] - 1s 3ms/step - loss: 1.2989 - accuracy: 0.4822 - val_loss: 0.8940 - val_accuracy: 0.6851\n",
      "Epoch 14/1000\n",
      "212/220 [===========================>..] - ETA: 0s - loss: 1.2856 - accuracy: 0.4872\n",
      "Epoch 14: saving model to model/keypoint_classifier\\keypoint_classifier.hdf5\n",
      "220/220 [==============================] - 1s 3ms/step - loss: 1.2856 - accuracy: 0.4867 - val_loss: 0.8812 - val_accuracy: 0.6848\n",
      "Epoch 15/1000\n",
      "213/220 [============================>.] - ETA: 0s - loss: 1.2727 - accuracy: 0.4946\n",
      "Epoch 15: saving model to model/keypoint_classifier\\keypoint_classifier.hdf5\n",
      "220/220 [==============================] - 1s 3ms/step - loss: 1.2721 - accuracy: 0.4942 - val_loss: 0.8682 - val_accuracy: 0.6966\n",
      "Epoch 16/1000\n",
      "209/220 [===========================>..] - ETA: 0s - loss: 1.2534 - accuracy: 0.4995\n",
      "Epoch 16: saving model to model/keypoint_classifier\\keypoint_classifier.hdf5\n",
      "220/220 [==============================] - 1s 3ms/step - loss: 1.2524 - accuracy: 0.4996 - val_loss: 0.8575 - val_accuracy: 0.6988\n",
      "Epoch 17/1000\n",
      "218/220 [============================>.] - ETA: 0s - loss: 1.2446 - accuracy: 0.5014\n",
      "Epoch 17: saving model to model/keypoint_classifier\\keypoint_classifier.hdf5\n",
      "220/220 [==============================] - 0s 2ms/step - loss: 1.2444 - accuracy: 0.5017 - val_loss: 0.8513 - val_accuracy: 0.6953\n",
      "Epoch 18/1000\n",
      "219/220 [============================>.] - ETA: 0s - loss: 1.2378 - accuracy: 0.5098\n",
      "Epoch 18: saving model to model/keypoint_classifier\\keypoint_classifier.hdf5\n",
      "220/220 [==============================] - 1s 3ms/step - loss: 1.2378 - accuracy: 0.5098 - val_loss: 0.8528 - val_accuracy: 0.6907\n",
      "Epoch 19/1000\n",
      "219/220 [============================>.] - ETA: 0s - loss: 1.2207 - accuracy: 0.5128\n",
      "Epoch 19: saving model to model/keypoint_classifier\\keypoint_classifier.hdf5\n",
      "220/220 [==============================] - 1s 2ms/step - loss: 1.2210 - accuracy: 0.5126 - val_loss: 0.8447 - val_accuracy: 0.6859\n",
      "Epoch 20/1000\n",
      "216/220 [============================>.] - ETA: 0s - loss: 1.2057 - accuracy: 0.5207\n",
      "Epoch 20: saving model to model/keypoint_classifier\\keypoint_classifier.hdf5\n",
      "220/220 [==============================] - 1s 3ms/step - loss: 1.2064 - accuracy: 0.5208 - val_loss: 0.8228 - val_accuracy: 0.6981\n",
      "Epoch 21/1000\n",
      "214/220 [============================>.] - ETA: 0s - loss: 1.1920 - accuracy: 0.5201\n",
      "Epoch 21: saving model to model/keypoint_classifier\\keypoint_classifier.hdf5\n",
      "220/220 [==============================] - 0s 2ms/step - loss: 1.1920 - accuracy: 0.5203 - val_loss: 0.8156 - val_accuracy: 0.6912\n",
      "Epoch 22/1000\n",
      "194/220 [=========================>....] - ETA: 0s - loss: 1.1873 - accuracy: 0.5271\n",
      "Epoch 22: saving model to model/keypoint_classifier\\keypoint_classifier.hdf5\n",
      "220/220 [==============================] - 1s 2ms/step - loss: 1.1824 - accuracy: 0.5276 - val_loss: 0.8171 - val_accuracy: 0.6959\n",
      "Epoch 23/1000\n",
      "218/220 [============================>.] - ETA: 0s - loss: 1.1679 - accuracy: 0.5297\n",
      "Epoch 23: saving model to model/keypoint_classifier\\keypoint_classifier.hdf5\n",
      "220/220 [==============================] - 1s 2ms/step - loss: 1.1685 - accuracy: 0.5294 - val_loss: 0.8065 - val_accuracy: 0.7007\n",
      "Epoch 24/1000\n",
      "215/220 [============================>.] - ETA: 0s - loss: 1.1539 - accuracy: 0.5364\n",
      "Epoch 24: saving model to model/keypoint_classifier\\keypoint_classifier.hdf5\n",
      "220/220 [==============================] - 1s 2ms/step - loss: 1.1539 - accuracy: 0.5360 - val_loss: 0.8073 - val_accuracy: 0.7000\n",
      "Epoch 25/1000\n",
      "206/220 [===========================>..] - ETA: 0s - loss: 1.1297 - accuracy: 0.5479\n",
      "Epoch 25: saving model to model/keypoint_classifier\\keypoint_classifier.hdf5\n",
      "220/220 [==============================] - 0s 2ms/step - loss: 1.1299 - accuracy: 0.5474 - val_loss: 0.7934 - val_accuracy: 0.7348\n",
      "Epoch 26/1000\n",
      "200/220 [==========================>...] - ETA: 0s - loss: 1.1352 - accuracy: 0.5419\n",
      "Epoch 26: saving model to model/keypoint_classifier\\keypoint_classifier.hdf5\n",
      "220/220 [==============================] - 0s 2ms/step - loss: 1.1326 - accuracy: 0.5429 - val_loss: 0.7831 - val_accuracy: 0.7074\n",
      "Epoch 27/1000\n",
      "199/220 [==========================>...] - ETA: 0s - loss: 1.1145 - accuracy: 0.5503\n",
      "Epoch 27: saving model to model/keypoint_classifier\\keypoint_classifier.hdf5\n",
      "220/220 [==============================] - 1s 2ms/step - loss: 1.1146 - accuracy: 0.5509 - val_loss: 0.7582 - val_accuracy: 0.7123\n",
      "Epoch 28/1000\n",
      "177/220 [=======================>......] - ETA: 0s - loss: 1.1007 - accuracy: 0.5565\n",
      "Epoch 28: saving model to model/keypoint_classifier\\keypoint_classifier.hdf5\n",
      "220/220 [==============================] - 0s 2ms/step - loss: 1.0959 - accuracy: 0.5572 - val_loss: 0.7673 - val_accuracy: 0.7206\n",
      "Epoch 29/1000\n",
      "197/220 [=========================>....] - ETA: 0s - loss: 1.0900 - accuracy: 0.5615\n",
      "Epoch 29: saving model to model/keypoint_classifier\\keypoint_classifier.hdf5\n",
      "220/220 [==============================] - 1s 2ms/step - loss: 1.0878 - accuracy: 0.5631 - val_loss: 0.7670 - val_accuracy: 0.7191\n",
      "Epoch 30/1000\n",
      "203/220 [==========================>...] - ETA: 0s - loss: 1.0774 - accuracy: 0.5669\n",
      "Epoch 30: saving model to model/keypoint_classifier\\keypoint_classifier.hdf5\n",
      "220/220 [==============================] - 0s 2ms/step - loss: 1.0784 - accuracy: 0.5671 - val_loss: 0.7719 - val_accuracy: 0.7279\n",
      "Epoch 31/1000\n",
      "207/220 [===========================>..] - ETA: 0s - loss: 1.0644 - accuracy: 0.5705\n",
      "Epoch 31: saving model to model/keypoint_classifier\\keypoint_classifier.hdf5\n",
      "220/220 [==============================] - 0s 2ms/step - loss: 1.0668 - accuracy: 0.5705 - val_loss: 0.7769 - val_accuracy: 0.7209\n",
      "Epoch 32/1000\n",
      "218/220 [============================>.] - ETA: 0s - loss: 1.0459 - accuracy: 0.5818\n",
      "Epoch 32: saving model to model/keypoint_classifier\\keypoint_classifier.hdf5\n",
      "220/220 [==============================] - 0s 2ms/step - loss: 1.0454 - accuracy: 0.5822 - val_loss: 0.7620 - val_accuracy: 0.7800\n",
      "Epoch 33/1000\n",
      "205/220 [==========================>...] - ETA: 0s - loss: 1.0490 - accuracy: 0.5814\n",
      "Epoch 33: saving model to model/keypoint_classifier\\keypoint_classifier.hdf5\n",
      "220/220 [==============================] - 1s 2ms/step - loss: 1.0471 - accuracy: 0.5827 - val_loss: 0.7910 - val_accuracy: 0.7534\n",
      "Epoch 34/1000\n",
      "164/220 [=====================>........] - ETA: 0s - loss: 1.0404 - accuracy: 0.5834\n",
      "Epoch 34: saving model to model/keypoint_classifier\\keypoint_classifier.hdf5\n",
      "220/220 [==============================] - 0s 1ms/step - loss: 1.0406 - accuracy: 0.5825 - val_loss: 0.8000 - val_accuracy: 0.7573\n",
      "Epoch 35/1000\n",
      "209/220 [===========================>..] - ETA: 0s - loss: 1.0302 - accuracy: 0.5907\n",
      "Epoch 35: saving model to model/keypoint_classifier\\keypoint_classifier.hdf5\n",
      "220/220 [==============================] - 1s 3ms/step - loss: 1.0295 - accuracy: 0.5918 - val_loss: 0.8034 - val_accuracy: 0.7051\n",
      "Epoch 36/1000\n",
      "169/220 [======================>.......] - ETA: 0s - loss: 1.0265 - accuracy: 0.5889\n",
      "Epoch 36: saving model to model/keypoint_classifier\\keypoint_classifier.hdf5\n",
      "220/220 [==============================] - 0s 2ms/step - loss: 1.0218 - accuracy: 0.5911 - val_loss: 0.7889 - val_accuracy: 0.7277\n",
      "Epoch 37/1000\n",
      "205/220 [==========================>...] - ETA: 0s - loss: 1.0067 - accuracy: 0.5992\n",
      "Epoch 37: saving model to model/keypoint_classifier\\keypoint_classifier.hdf5\n",
      "220/220 [==============================] - 0s 2ms/step - loss: 1.0059 - accuracy: 0.6005 - val_loss: 0.7882 - val_accuracy: 0.7520\n",
      "Epoch 38/1000\n",
      "199/220 [==========================>...] - ETA: 0s - loss: 0.9974 - accuracy: 0.6046\n",
      "Epoch 38: saving model to model/keypoint_classifier\\keypoint_classifier.hdf5\n",
      "220/220 [==============================] - 1s 2ms/step - loss: 0.9978 - accuracy: 0.6038 - val_loss: 0.7810 - val_accuracy: 0.7831\n",
      "Epoch 39/1000\n",
      "201/220 [==========================>...] - ETA: 0s - loss: 1.0014 - accuracy: 0.6073\n",
      "Epoch 39: saving model to model/keypoint_classifier\\keypoint_classifier.hdf5\n",
      "220/220 [==============================] - 1s 2ms/step - loss: 1.0023 - accuracy: 0.6076 - val_loss: 0.7948 - val_accuracy: 0.7174\n",
      "Epoch 40/1000\n",
      "212/220 [===========================>..] - ETA: 0s - loss: 0.9940 - accuracy: 0.6122\n",
      "Epoch 40: saving model to model/keypoint_classifier\\keypoint_classifier.hdf5\n",
      "220/220 [==============================] - 0s 2ms/step - loss: 0.9940 - accuracy: 0.6118 - val_loss: 0.8091 - val_accuracy: 0.7351\n",
      "Epoch 41/1000\n",
      "195/220 [=========================>....] - ETA: 0s - loss: 0.9910 - accuracy: 0.6101\n",
      "Epoch 41: saving model to model/keypoint_classifier\\keypoint_classifier.hdf5\n",
      "220/220 [==============================] - 0s 2ms/step - loss: 0.9904 - accuracy: 0.6107 - val_loss: 0.8251 - val_accuracy: 0.7041\n",
      "Epoch 42/1000\n",
      "183/220 [=======================>......] - ETA: 0s - loss: 0.9895 - accuracy: 0.6149\n",
      "Epoch 42: saving model to model/keypoint_classifier\\keypoint_classifier.hdf5\n",
      "220/220 [==============================] - 0s 1ms/step - loss: 0.9862 - accuracy: 0.6149 - val_loss: 0.8055 - val_accuracy: 0.7383\n",
      "Epoch 43/1000\n",
      "218/220 [============================>.] - ETA: 0s - loss: 0.9799 - accuracy: 0.6155\n",
      "Epoch 43: saving model to model/keypoint_classifier\\keypoint_classifier.hdf5\n",
      "220/220 [==============================] - 0s 1ms/step - loss: 0.9802 - accuracy: 0.6153 - val_loss: 0.8176 - val_accuracy: 0.7289\n",
      "Epoch 44/1000\n",
      "190/220 [========================>.....] - ETA: 0s - loss: 0.9771 - accuracy: 0.6122\n",
      "Epoch 44: saving model to model/keypoint_classifier\\keypoint_classifier.hdf5\n",
      "220/220 [==============================] - 0s 2ms/step - loss: 0.9795 - accuracy: 0.6127 - val_loss: 0.8571 - val_accuracy: 0.6628\n",
      "Epoch 45/1000\n",
      "217/220 [============================>.] - ETA: 0s - loss: 0.9718 - accuracy: 0.6213\n",
      "Epoch 45: saving model to model/keypoint_classifier\\keypoint_classifier.hdf5\n",
      "220/220 [==============================] - 0s 2ms/step - loss: 0.9718 - accuracy: 0.6215 - val_loss: 0.8463 - val_accuracy: 0.6703\n",
      "Epoch 46/1000\n",
      "164/220 [=====================>........] - ETA: 0s - loss: 0.9784 - accuracy: 0.6150\n",
      "Epoch 46: saving model to model/keypoint_classifier\\keypoint_classifier.hdf5\n",
      "220/220 [==============================] - 0s 1ms/step - loss: 0.9767 - accuracy: 0.6154 - val_loss: 0.8249 - val_accuracy: 0.6917\n",
      "Epoch 47/1000\n",
      "202/220 [==========================>...] - ETA: 0s - loss: 0.9680 - accuracy: 0.6216\n",
      "Epoch 47: saving model to model/keypoint_classifier\\keypoint_classifier.hdf5\n",
      "220/220 [==============================] - 1s 3ms/step - loss: 0.9680 - accuracy: 0.6217 - val_loss: 0.8457 - val_accuracy: 0.6710\n",
      "Epoch 47: early stopping\n"
     ]
    },
    {
     "data": {
      "text/plain": [
       "<keras.callbacks.History at 0x19ddf3ac880>"
      ]
     },
     "execution_count": 12,
     "metadata": {},
     "output_type": "execute_result"
    }
   ],
   "source": [
    "model.fit(\n",
    "    X_train,\n",
    "    y_train,\n",
    "    epochs=1000,\n",
    "    batch_size=128,\n",
    "    validation_data=(X_test, y_test),\n",
    "    callbacks=[cp_callback, es_callback]\n",
    ")"
   ]
  },
  {
   "cell_type": "code",
   "execution_count": 13,
   "metadata": {
    "colab": {
     "base_uri": "https://localhost:8080/"
    },
    "id": "pxvb2Y299hE3",
    "outputId": "59eb3185-2e37-4b9e-bc9d-ab1b8ac29b7f"
   },
   "outputs": [
    {
     "name": "stdout",
     "output_type": "stream",
     "text": [
      "74/74 [==============================] - 0s 1ms/step - loss: 0.8457 - accuracy: 0.6710\n"
     ]
    }
   ],
   "source": [
    "# Model evaluation\n",
    "val_loss, val_acc = model.evaluate(X_test, y_test, batch_size=128)"
   ]
  },
  {
   "cell_type": "code",
   "execution_count": 14,
   "metadata": {
    "id": "RBkmDeUW9hE4"
   },
   "outputs": [],
   "source": [
    "# Loading the saved model\n",
    "model = tf.keras.models.load_model(model_save_path)"
   ]
  },
  {
   "cell_type": "code",
   "execution_count": 15,
   "metadata": {
    "colab": {
     "base_uri": "https://localhost:8080/"
    },
    "id": "tFz9Tb0I9hE4",
    "outputId": "1c3b3528-54ae-4ee2-ab04-77429211cbef"
   },
   "outputs": [
    {
     "name": "stdout",
     "output_type": "stream",
     "text": [
      "1/1 [==============================] - 0s 77ms/step\n",
      "[1.7889879e-05 1.3305285e-02 5.1060241e-01 3.7396266e-03 2.8387434e-04\n",
      " 3.3311039e-01 5.5786677e-06 1.2531939e-04 2.9921934e-03 6.9815790e-08\n",
      " 1.3414280e-01 1.6746511e-03]\n",
      "2\n"
     ]
    }
   ],
   "source": [
    "# Inference test\n",
    "predict_result = model.predict(np.array([X_test[0]]))\n",
    "print(np.squeeze(predict_result))\n",
    "print(np.argmax(np.squeeze(predict_result)))"
   ]
  },
  {
   "cell_type": "markdown",
   "metadata": {
    "id": "S3U4yNWx9hE4"
   },
   "source": [
    "# Confusion matrix"
   ]
  },
  {
   "cell_type": "code",
   "execution_count": 16,
   "metadata": {
    "colab": {
     "base_uri": "https://localhost:8080/",
     "height": 582
    },
    "id": "AP1V6SCk9hE5",
    "outputId": "08e41a80-7a4a-4619-8125-ecc371368d19"
   },
   "outputs": [
    {
     "name": "stdout",
     "output_type": "stream",
     "text": [
      "293/293 [==============================] - 0s 783us/step\n"
     ]
    },
    {
     "data": {
      "image/png": "[encoded data removed]",
      "text/plain": [
       "<Figure size 700x600 with 2 Axes>"
      ]
     },
     "metadata": {},
     "output_type": "display_data"
    },
    {
     "name": "stdout",
     "output_type": "stream",
     "text": [
      "Classification Report\n",
      "              precision    recall  f1-score   support\n",
      "\n",
      "           0       0.94      0.52      0.67      1255\n",
      "           1       0.70      0.53      0.60       716\n",
      "           2       0.58      0.59      0.58      1613\n",
      "           3       0.73      0.88      0.80       922\n",
      "           4       0.58      0.20      0.30       262\n",
      "           5       0.95      0.09      0.16       808\n",
      "           6       0.97      0.68      0.80       439\n",
      "           7       0.58      0.85      0.69       602\n",
      "           8       0.97      0.99      0.98       679\n",
      "           9       0.67      1.00      0.80      1042\n",
      "          10       0.38      0.98      0.54       466\n",
      "          11       0.70      0.70      0.70       546\n",
      "\n",
      "    accuracy                           0.67      9350\n",
      "   macro avg       0.73      0.67      0.64      9350\n",
      "weighted avg       0.74      0.67      0.65      9350\n",
      "\n"
     ]
    }
   ],
   "source": [
    "import pandas as pd\n",
    "import seaborn as sns\n",
    "import matplotlib.pyplot as plt\n",
    "from sklearn.metrics import confusion_matrix, classification_report\n",
    "\n",
    "def print_confusion_matrix(y_true, y_pred, report=True):\n",
    "    labels = sorted(list(set(y_true)))\n",
    "    cmx_data = confusion_matrix(y_true, y_pred, labels=labels)\n",
    "    \n",
    "    df_cmx = pd.DataFrame(cmx_data, index=labels, columns=labels)\n",
    " \n",
    "    fig, ax = plt.subplots(figsize=(7, 6))\n",
    "    sns.heatmap(df_cmx, annot=True, fmt='g' ,square=False)\n",
    "    ax.set_ylim(len(set(y_true)), 0)\n",
    "    plt.show()\n",
    "    \n",
    "    if report:\n",
    "        print('Classification Report')\n",
    "        print(classification_report(y_test, y_pred))\n",
    "\n",
    "Y_pred = model.predict(X_test)\n",
    "y_pred = np.argmax(Y_pred, axis=1)\n",
    "\n",
    "print_confusion_matrix(y_test, y_pred)"
   ]
  },
  {
   "cell_type": "markdown",
   "metadata": {
    "id": "FNP6aqzc9hE5"
   },
   "source": [
    "# Convert to model for Tensorflow-Lite"
   ]
  },
  {
   "cell_type": "code",
   "execution_count": 17,
   "metadata": {
    "id": "ODjnYyld9hE6"
   },
   "outputs": [],
   "source": [
    "# Save as a model dedicated to inference\n",
    "model.save(model_save_path, include_optimizer=False)"
   ]
  },
  {
   "cell_type": "code",
   "execution_count": 18,
   "metadata": {
    "colab": {
     "base_uri": "https://localhost:8080/"
    },
    "id": "zRfuK8Y59hE6",
    "outputId": "a4ca585c-b5d5-4244-8291-8674063209bb"
   },
   "outputs": [
    {
     "name": "stdout",
     "output_type": "stream",
     "text": [
      "INFO:tensorflow:Assets written to: C:\\Users\\User\\AppData\\Local\\Temp\\tmp2znezctl\\assets\n"
     ]
    },
    {
     "data": {
      "text/plain": [
       "6840"
      ]
     },
     "execution_count": 18,
     "metadata": {},
     "output_type": "execute_result"
    }
   ],
   "source": [
    "# Transform model (quantization)\n",
    "\n",
    "converter = tf.lite.TFLiteConverter.from_keras_model(model)\n",
    "converter.optimizations = [tf.lite.Optimize.DEFAULT]\n",
    "tflite_quantized_model = converter.convert()\n",
    "\n",
    "open(tflite_save_path, 'wb').write(tflite_quantized_model)"
   ]
  },
  {
   "cell_type": "markdown",
   "metadata": {
    "id": "CHBPBXdx9hE6"
   },
   "source": [
    "# Inference test"
   ]
  },
  {
   "cell_type": "code",
   "execution_count": 19,
   "metadata": {
    "id": "mGAzLocO9hE7"
   },
   "outputs": [],
   "source": [
    "interpreter = tf.lite.Interpreter(model_path=tflite_save_path)\n",
    "interpreter.allocate_tensors()"
   ]
  },
  {
   "cell_type": "code",
   "execution_count": 20,
   "metadata": {
    "id": "oQuDK8YS9hE7"
   },
   "outputs": [],
   "source": [
    "# Get I / O tensor\n",
    "input_details = interpreter.get_input_details()\n",
    "output_details = interpreter.get_output_details()"
   ]
  },
  {
   "cell_type": "code",
   "execution_count": 21,
   "metadata": {
    "id": "2_ixAf_l9hE7"
   },
   "outputs": [],
   "source": [
    "interpreter.set_tensor(input_details[0]['index'], np.array([X_test[0]]))"
   ]
  },
  {
   "cell_type": "code",
   "execution_count": 22,
   "metadata": {
    "colab": {
     "base_uri": "https://localhost:8080/"
    },
    "id": "s4FoAnuc9hE7",
    "outputId": "91f18257-8d8b-4ef3-c558-e9b5f94fabbf",
    "scrolled": true
   },
   "outputs": [
    {
     "name": "stdout",
     "output_type": "stream",
     "text": [
      "CPU times: total: 0 ns\n",
      "Wall time: 3.99 ms\n"
     ]
    }
   ],
   "source": [
    "%%time\n",
    "# Inference implementation\n",
    "interpreter.invoke()\n",
    "tflite_results = interpreter.get_tensor(output_details[0]['index'])"
   ]
  },
  {
   "cell_type": "code",
   "execution_count": 23,
   "metadata": {
    "colab": {
     "base_uri": "https://localhost:8080/"
    },
    "id": "vONjp19J9hE8",
    "outputId": "77205e24-fd00-42c4-f7b6-e06e527c2cba"
   },
   "outputs": [
    {
     "name": "stdout",
     "output_type": "stream",
     "text": [
      "[1.7889875e-05 1.3305295e-02 5.1060236e-01 3.7396278e-03 2.8387454e-04\n",
      " 3.3311036e-01 5.5786777e-06 1.2531949e-04 2.9921946e-03 6.9815840e-08\n",
      " 1.3414285e-01 1.6746515e-03]\n",
      "2\n"
     ]
    }
   ],
   "source": [
    "print(np.squeeze(tflite_results))\n",
    "print(np.argmax(np.squeeze(tflite_results)))"
   ]
  }
 ],
 "metadata": {
  "accelerator": "GPU",
  "colab": {
   "collapsed_sections": [],
   "name": "keypoint_classification_EN.ipynb",
   "provenance": [],
   "toc_visible": true
  },
  "kernelspec": {
   "display_name": "Python 3 (ipykernel)",
   "language": "python",
   "name": "python3"
  },
  "language_info": {
   "codemirror_mode": {
    "name": "ipython",
    "version": 3
   },
   "file_extension": ".py",
   "mimetype": "text/x-python",
   "name": "python",
   "nbconvert_exporter": "python",
   "pygments_lexer": "ipython3",
   "version": "3.9.13"
  }
 },
 "nbformat": 4,
 "nbformat_minor": 4
}
